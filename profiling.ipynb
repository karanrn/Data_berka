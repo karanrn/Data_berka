{
 "cells": [
  {
   "cell_type": "code",
   "execution_count": 1,
   "metadata": {},
   "outputs": [
    {
     "name": "stderr",
     "output_type": "stream",
     "text": [
      "/usr/local/lib/python3.5/dist-packages/IPython/core/interactiveshell.py:2728: DtypeWarning: Columns (8) have mixed types. Specify dtype option on import or set low_memory=False.\n",
      "  interactivity=interactivity, compiler=compiler, result=result)\n"
     ]
    }
   ],
   "source": [
    "import pandas as pd\n",
    "import numpy as np\n",
    "import matplotlib.pyplot as plt\n",
    "account = pd.read_csv('account.csv',sep=';')\n",
    "crcard = pd.read_csv('card.csv', sep=';')\n",
    "trans = pd.read_csv('trans.csv', sep=';')\n",
    "client = pd.read_csv('client.csv', sep = ';')\n",
    "order = pd.read_csv('order.csv', sep = ';')\n",
    "loan = pd.read_csv('loan.csv', sep = ';')\n",
    "disp = pd.read_csv('disp.csv', sep = ';')\n",
    "district = pd.read_csv('district.csv', sep = ';')\n",
    "\n",
    "last_date = '981231'"
   ]
  },
  {
   "cell_type": "code",
   "execution_count": 9,
   "metadata": {},
   "outputs": [],
   "source": [
    "from dateutil.relativedelta import relativedelta\n",
    "age = []\n",
    "ccl0 = disp[disp['type'] == 'OWNER']['client_id']\n",
    "ccl = client[client['client_id'].isin(ccl0)]\n",
    "for i in ccl['birth_number'].values:\n",
    "    xx1 = 19981231\n",
    "    if (i%10000/100) >50 :\n",
    "        mm = str(int(i%10000/100 - 50))\n",
    "        yy = str(int(i/10000))\n",
    "        dd = str(int(i%100))\n",
    "        xx2 = '19' + yy + mm + dd\n",
    "    else:\n",
    "        xx2 = '19' + str(i)\n",
    "\n",
    "    d1 = pd.to_datetime(str(xx1), format='%Y%m%d')\n",
    "    d2 = pd.to_datetime(str(xx2), format='%Y%m%d')\n",
    "    rdelta = relativedelta(d1,d2)\n",
    "    \n",
    "    c_id = ccl[ccl['birth_number'] == i]['client_id'].values[0]\n",
    "    age.append([c_id,rdelta.years])"
   ]
  },
  {
   "cell_type": "code",
   "execution_count": 10,
   "metadata": {},
   "outputs": [],
   "source": [
    "age = pd.DataFrame(age, columns = ['client_id', 'age']).reset_index(drop = True)\n",
    "xage = disp[disp['type'] == 'OWNER'][['client_id','account_id']].reset_index(drop =True)\n",
    "\n",
    "df = xage.merge(age, on = 'client_id')\n",
    "#df = pd.DataFrame(df[df.index_x==df.index_y]['client_id'], columns=['client_id']).reset_index(drop=True)"
   ]
  },
  {
   "cell_type": "code",
   "execution_count": 23,
   "metadata": {},
   "outputs": [],
   "source": [
    "# account ID's\n",
    "accid = account['account_id'].values\n",
    "\n",
    "# Credit card information\n",
    "card_t = disp[disp['type'] == 'OWNER']\n",
    "card_tt = crcard[crcard['disp_id'].isin(card_t['disp_id'])][['disp_id','type']]\n",
    "card_type = card_t.merge(on='disp_id',right=card_tt)\n",
    "\n",
    "# Insurance\n",
    "insurance = trans['k_symbol'] == \"POJISTNE\"\n",
    "ins_holder = set(trans[insurance]['account_id'])\n",
    "loanstatus = loan[['account_id', 'status']].values\n",
    "\n",
    "# Spending check\n",
    "withdraw = trans['type'] == 'VYDAJ'\n",
    "spenders = trans[withdraw]\n",
    "\n",
    "customer = []\n",
    "for x in accid:\n",
    "    bal = trans[trans['account_id'] == x].sort_values('date').iloc[[-1]]['balance'].values[0]\n",
    "    lastxtn = trans[trans['account_id'] == x].sort_values('date').iloc[[-1]]['date'].values[0]\n",
    "    avgspend = np.round(spenders[spenders['account_id'] == x]['amount'].mean(),2)\n",
    "    # Account, balance and HasCard status\n",
    "    if x in card_type['account_id'].values:\n",
    "        crd = card_type[card_type['account_id'] == x]['type_y'].values[0]\n",
    "        customer.append([x,bal,crd,avgspend])\n",
    "    else:\n",
    "        customer.append([x,bal,-1,avgspend])\n",
    "    \n",
    "    xxlen = len(customer) - 1    \n",
    "    \n",
    "    # Loan status of account holders\n",
    "    if x in loanstatus[:,0]:\n",
    "        ll = loanstatus[loanstatus[:,0] == x][0][1]\n",
    "        customer[xxlen] = customer[xxlen] + [ll]\n",
    "    else:\n",
    "        customer[xxlen] = customer[xxlen] + [-1]\n",
    "        \n",
    "    # Insurance holders\n",
    "    if x in ins_holder:\n",
    "        customer[xxlen] = customer[xxlen] + [1]\n",
    "    else:\n",
    "        customer[xxlen] = customer[xxlen] + [0]\n",
    "    # Check for dormancy\n",
    "    if lastxtn <= 981031:\n",
    "        customer[xxlen] = customer[xxlen] + [1]\n",
    "    else:\n",
    "        customer[xxlen] = customer[xxlen] + [0]  "
   ]
  },
  {
   "cell_type": "code",
   "execution_count": 24,
   "metadata": {},
   "outputs": [],
   "source": [
    "columns = ['account_id','balance', 'credit_card', 'avg_spend', 'loan_status', 'hasInsurance', 'Dormant']\n",
    "customer = pd.DataFrame(customer, columns=columns)\n",
    "customer.to_csv('consolidated_customer.csv', index=False)"
   ]
  },
  {
   "cell_type": "code",
   "execution_count": 25,
   "metadata": {},
   "outputs": [],
   "source": [
    "# spendings vs loan\n",
    "withdraw = trans['type'] == 'VYDAJ'\n",
    "spenders = trans[withdraw]\n",
    "spend = []\n",
    "for x in accid:    \n",
    "    avgspend = np.round(spenders[spenders['account_id'] == x]['amount'].mean(),2)\n",
    "    if x in loanstatus:\n",
    "        ln = loanstatus[loanstatus[:,0] == x][0][1]\n",
    "        spend.append([x,float(avgspend),ln])       \n"
   ]
  },
  {
   "cell_type": "code",
   "execution_count": 26,
   "metadata": {},
   "outputs": [
    {
     "name": "stdout",
     "output_type": "stream",
     "text": [
      "% of customers with loan having gold credit card:18.181818181818183 %\n",
      "% of customers with loan having junior credit card:14.482758620689657 %\n",
      "% of customers with loan having classic credit card:20.18209408194234 %\n"
     ]
    }
   ],
   "source": [
    "# Precentage of credit card holders having loans\n",
    "not_payed = customer['loan_status'] == 'B'\n",
    "in_debt = customer['loan_status'] == 'D'\n",
    "payed = customer['loan_status'] == 'A'\n",
    "in_progress = customer['loan_status'] == 'C'\n",
    "juniorcrd = customer['credit_card'] == 'junior'\n",
    "classiccrd = customer['credit_card'] == 'classic'\n",
    "goldcrd = customer['credit_card'] == 'gold'\n",
    "loan_gold = customer[(not_payed | in_debt | payed | in_progress) & goldcrd].shape[0]\n",
    "loan_junior = customer[(not_payed | in_debt | payed | in_progress) & juniorcrd].shape[0]\n",
    "loan_classic = customer[(not_payed | in_debt | payed | in_progress) & classiccrd].shape[0]\n",
    "\n",
    "gold_total = customer[goldcrd].shape[0]\n",
    "classic_total = customer[classiccrd].shape[0]\n",
    "junior_total = customer[juniorcrd].shape[0]\n",
    "print(\"% of customers with loan having gold credit card:{} %\".format((loan_gold/gold_total)*100))\n",
    "print(\"% of customers with loan having junior credit card:{} %\".format((loan_junior/junior_total)*100))\n",
    "print(\"% of customers with loan having classic credit card:{} %\".format((loan_classic/classic_total)*100))"
   ]
  },
  {
   "cell_type": "code",
   "execution_count": 29,
   "metadata": {},
   "outputs": [
    {
     "data": {
      "text/html": [
       "<div>\n",
       "<style scoped>\n",
       "    .dataframe tbody tr th:only-of-type {\n",
       "        vertical-align: middle;\n",
       "    }\n",
       "\n",
       "    .dataframe tbody tr th {\n",
       "        vertical-align: top;\n",
       "    }\n",
       "\n",
       "    .dataframe thead tr th {\n",
       "        text-align: left;\n",
       "    }\n",
       "\n",
       "    .dataframe thead tr:last-of-type th {\n",
       "        text-align: right;\n",
       "    }\n",
       "</style>\n",
       "<table border=\"1\" class=\"dataframe\">\n",
       "  <thead>\n",
       "    <tr>\n",
       "      <th></th>\n",
       "      <th colspan=\"5\" halign=\"left\">account_id</th>\n",
       "    </tr>\n",
       "    <tr>\n",
       "      <th>loan_status</th>\n",
       "      <th>-1</th>\n",
       "      <th>A</th>\n",
       "      <th>B</th>\n",
       "      <th>C</th>\n",
       "      <th>D</th>\n",
       "    </tr>\n",
       "    <tr>\n",
       "      <th>club</th>\n",
       "      <th></th>\n",
       "      <th></th>\n",
       "      <th></th>\n",
       "      <th></th>\n",
       "      <th></th>\n",
       "    </tr>\n",
       "  </thead>\n",
       "  <tbody>\n",
       "    <tr>\n",
       "      <th>1</th>\n",
       "      <td>2377.0</td>\n",
       "      <td>62.0</td>\n",
       "      <td>5.0</td>\n",
       "      <td>132.0</td>\n",
       "      <td>12.0</td>\n",
       "    </tr>\n",
       "    <tr>\n",
       "      <th>2</th>\n",
       "      <td>976.0</td>\n",
       "      <td>89.0</td>\n",
       "      <td>21.0</td>\n",
       "      <td>159.0</td>\n",
       "      <td>22.0</td>\n",
       "    </tr>\n",
       "    <tr>\n",
       "      <th>3</th>\n",
       "      <td>352.0</td>\n",
       "      <td>49.0</td>\n",
       "      <td>3.0</td>\n",
       "      <td>101.0</td>\n",
       "      <td>10.0</td>\n",
       "    </tr>\n",
       "    <tr>\n",
       "      <th>4</th>\n",
       "      <td>99.0</td>\n",
       "      <td>3.0</td>\n",
       "      <td>2.0</td>\n",
       "      <td>11.0</td>\n",
       "      <td>1.0</td>\n",
       "    </tr>\n",
       "    <tr>\n",
       "      <th>5</th>\n",
       "      <td>13.0</td>\n",
       "      <td>NaN</td>\n",
       "      <td>NaN</td>\n",
       "      <td>NaN</td>\n",
       "      <td>NaN</td>\n",
       "    </tr>\n",
       "    <tr>\n",
       "      <th>6</th>\n",
       "      <td>1.0</td>\n",
       "      <td>NaN</td>\n",
       "      <td>NaN</td>\n",
       "      <td>NaN</td>\n",
       "      <td>NaN</td>\n",
       "    </tr>\n",
       "  </tbody>\n",
       "</table>\n",
       "</div>"
      ],
      "text/plain": [
       "            account_id                         \n",
       "loan_status         -1     A     B      C     D\n",
       "club                                           \n",
       "1               2377.0  62.0   5.0  132.0  12.0\n",
       "2                976.0  89.0  21.0  159.0  22.0\n",
       "3                352.0  49.0   3.0  101.0  10.0\n",
       "4                 99.0   3.0   2.0   11.0   1.0\n",
       "5                 13.0   NaN   NaN    NaN   NaN\n",
       "6                  1.0   NaN   NaN    NaN   NaN"
      ]
     },
     "execution_count": 29,
     "metadata": {},
     "output_type": "execute_result"
    }
   ],
   "source": [
    "xspend = customer['avg_spend'].values\n",
    "bins = np.arange(400,25000,4000)\n",
    "ind = np.digitize(xspend, bins)\n",
    "xx = customer\n",
    "xx['club'] = ind\n",
    "result = xx.groupby(['loan_status','club']).agg({'account_id':'count'})\n",
    "result = pd.DataFrame(result).reset_index()\n",
    "pivotresult = result.pivot(index = 'club', columns = 'loan_status')\n",
    "pivotresult"
   ]
  },
  {
   "cell_type": "code",
   "execution_count": null,
   "metadata": {},
   "outputs": [],
   "source": [
    "pivotresult.loc[1]"
   ]
  }
 ],
 "metadata": {
  "kernelspec": {
   "display_name": "Python 3",
   "language": "python",
   "name": "python3"
  },
  "language_info": {
   "codemirror_mode": {
    "name": "ipython",
    "version": 3
   },
   "file_extension": ".py",
   "mimetype": "text/x-python",
   "name": "python",
   "nbconvert_exporter": "python",
   "pygments_lexer": "ipython3",
   "version": "3.5.2"
  }
 },
 "nbformat": 4,
 "nbformat_minor": 2
}
